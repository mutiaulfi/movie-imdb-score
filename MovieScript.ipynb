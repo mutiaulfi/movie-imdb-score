{
 "cells": [
  {
   "cell_type": "code",
   "execution_count": null,
   "metadata": {
    "collapsed": true
   },
   "outputs": [],
   "source": [
    "library(AzureML)\n",
    "library(ggplot2)\n",
    "workspace_id <- '2667e082d55149838517763a11b0bee8'\n",
    "authorization_token <- 'F0JxDZ9UyYSpw0aaq7nV/Zncl9acydsKtql1ml8P+Ehqb6cnaougC+J2tEN8lp0fOmfoGY4q4Z3ayzjgYB+Bvg=='\n",
    "ws <- workspace(workspace_id, authorization_token)\n",
    "\n",
    "movie <- read.csv(\"/home/nbuser/library/movie_new.csv\")\n",
    "head(movie)"
   ]
  }
 ],
 "metadata": {
  "kernelspec": {
   "display_name": "R",
   "language": "R",
   "name": "r"
  },
  "language_info": {
   "codemirror_mode": "r",
   "file_extension": ".r",
   "mimetype": "text/x-r-source",
   "name": "R",
   "pygments_lexer": "r",
   "version": "3.4.1"
  }
 },
 "nbformat": 4,
 "nbformat_minor": 2
}
